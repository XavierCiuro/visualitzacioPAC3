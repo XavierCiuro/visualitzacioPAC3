{
 "cells": [
  {
   "cell_type": "code",
   "execution_count": 1,
   "id": "9a8306ae-0def-48a1-85e1-c423099cab6f",
   "metadata": {},
   "outputs": [],
   "source": [
    "import os\n",
    "os.chdir(r\"C:\\Users\\xciur\\OneDrive\\Escriptori\\UOC - cIENCIA DE dADES\\4 semestre\\visualització de dades\\pac3\")"
   ]
  },
  {
   "cell_type": "code",
   "execution_count": 2,
   "id": "ae062f8c-413e-4fab-83d6-ca7cb1326458",
   "metadata": {},
   "outputs": [],
   "source": [
    "#Actualització arxiu rutes Geojson\n",
    "import json\n",
    "import pandas as pd\n",
    "\n",
    "#carguem arxiu coordenades amnuals\n",
    "excel_file = 'coordenades_manuals.xlsx'\n",
    "\n",
    "# leccutra arxiu\n",
    "df = pd.read_excel(excel_file)\n",
    "df['municipi'] = df['municipi'].str.strip()\n",
    "\n",
    "#Arxiu geojson a actualitzar\n",
    "geojson_file = 'ruta_final.geojson'\n",
    "\n",
    "#Carguem geojson\n",
    "with open(geojson_file, 'r', encoding='utf-8') as file:\n",
    "    geojson_data = json.load(file)\n",
    "\n",
    "#Municipies existents en el geojson\n",
    "municipis_existents = set(feature['properties'].get('Municipi') for feature in geojson_data['features'])\n",
    "\n",
    "# Actualització coordenades i afegir ubicacions noves\n",
    "for index, row in df.iterrows():\n",
    "    municipi = row['municipi']\n",
    "    # Si la ubicacio existeix, s'actualitzen coordenades\n",
    "    if municipi in municipis_existents:\n",
    "        for feature in geojson_data['features']:\n",
    "            if feature['properties'].get('Municipi') == municipi:\n",
    "                coords_string = row['coordenades']\n",
    "                lat, lon = map(float, coords_string.split(', '))\n",
    "                feature['geometry']['coordinates'] = [lon, lat]\n",
    "    # Si el municipi no existeix, s'afegeix\n",
    "    else:\n",
    "        coords_string = row['coordenades']\n",
    "        lat, lon = map(float, coords_string.split(', '))\n",
    "        new_feature = {\n",
    "            \"type\": \"Feature\",\n",
    "            \"properties\": {\"Municipi\": municipi},\n",
    "            \"geometry\": {\n",
    "                \"type\": \"Point\",\n",
    "                \"coordinates\": [lon, lat]\n",
    "            }\n",
    "        }\n",
    "        geojson_data['features'].append(new_feature)\n",
    "\n",
    "#Guardar arxiu actualitzat\n",
    "updated_geojson_file = 'ruta_final_definitiva.geojson'\n",
    "with open(updated_geojson_file, 'w', encoding='utf-8') as file:\n",
    "    json.dump(geojson_data, file, ensure_ascii=False)"
   ]
  },
  {
   "cell_type": "code",
   "execution_count": null,
   "id": "60b7b095-ca44-47ba-9110-187743d5faaa",
   "metadata": {},
   "outputs": [],
   "source": []
  }
 ],
 "metadata": {
  "kernelspec": {
   "display_name": "Python 3 (ipykernel)",
   "language": "python",
   "name": "python3"
  },
  "language_info": {
   "codemirror_mode": {
    "name": "ipython",
    "version": 3
   },
   "file_extension": ".py",
   "mimetype": "text/x-python",
   "name": "python",
   "nbconvert_exporter": "python",
   "pygments_lexer": "ipython3",
   "version": "3.11.5"
  }
 },
 "nbformat": 4,
 "nbformat_minor": 5
}
