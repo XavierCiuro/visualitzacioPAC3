{
 "cells": [
  {
   "cell_type": "code",
   "execution_count": 2,
   "id": "8bd9051a-2896-4c1b-9c7e-6058dcb871d1",
   "metadata": {},
   "outputs": [],
   "source": []
  },
  {
   "cell_type": "code",
   "execution_count": 3,
   "id": "2e39db5b-3a05-432f-b62a-5747e8732f1f",
   "metadata": {},
   "outputs": [],
   "source": [
    "import pandas as pd\n",
    "import requests\n",
    "from tqdm import tqdm\n",
    "\n",
    "def coordenades(ubicacio, api_key):\n",
    "    base_url = \"https://maps.googleapis.com/maps/api/geocode/json\"\n",
    "    params = {\n",
    "        \"address\": ubicacio,\n",
    "        \"key\": api_key\n",
    "    }\n",
    "    response = requests.get(base_url, params=params)\n",
    "    if response.status_code == 200 and 'results' in response.json():\n",
    "        results = response.json()['results']\n",
    "        if results:\n",
    "            return results[0]['geometry']['location']\n",
    "    return None"
   ]
  },
  {
   "cell_type": "code",
   "execution_count": 5,
   "id": "8cc5fcb9-aef5-46c3-8b21-dc7fc38b9e8b",
   "metadata": {},
   "outputs": [
    {
     "name": "stderr",
     "output_type": "stream",
     "text": [
      "Buscant coordenades: 100%|██████████| 437/437 [05:06<00:00,  1.43it/s]\n"
     ]
    }
   ],
   "source": [
    "#Lectura arxiu amb indrets\n",
    "indrets_excel = 'totalindrets.xlsx'\n",
    "df_indrets = pd.read_excel(indrets_excel)\n",
    "\n",
    "#Clau API \n",
    "api_key = \"\"\n",
    "\n",
    "resultados = []\n",
    "for nom in tqdm(df_indrets['Municipi'], desc=\"Buscant coordenades\"):\n",
    "    coords = coordenades(nom, api_key)\n",
    "    if coords:\n",
    "        resultados.append({\n",
    "            'Nombre': nom,\n",
    "            'Latitud': coords['lat'],\n",
    "            'Longitud': coords['lng']\n",
    "        })\n",
    "\n",
    "coordenades = pd.DataFrame(resultados)\n",
    "\n",
    "# Exportar los resultados a Excel\n",
    "arxius_google = 'GOOGLE_indrets.xlsx'\n",
    "coordenades.to_excel(arxius_google, index=False)"
   ]
  },
  {
   "cell_type": "code",
   "execution_count": null,
   "id": "3a1fe121-0c6a-45b4-b4d1-5b732666216b",
   "metadata": {},
   "outputs": [],
   "source": []
  }
 ],
 "metadata": {
  "kernelspec": {
   "display_name": "Python 3 (ipykernel)",
   "language": "python",
   "name": "python3"
  },
  "language_info": {
   "codemirror_mode": {
    "name": "ipython",
    "version": 3
   },
   "file_extension": ".py",
   "mimetype": "text/x-python",
   "name": "python",
   "nbconvert_exporter": "python",
   "pygments_lexer": "ipython3",
   "version": "3.11.5"
  }
 },
 "nbformat": 4,
 "nbformat_minor": 5
}
